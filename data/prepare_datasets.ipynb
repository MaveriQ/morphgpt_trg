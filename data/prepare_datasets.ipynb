{
 "cells": [
  {
   "cell_type": "code",
   "execution_count": 1,
   "id": "15707edb-3f90-4f05-80b3-8d102c481a1f",
   "metadata": {
    "tags": []
   },
   "outputs": [
    {
     "name": "stdout",
     "output_type": "stream",
     "text": [
      "\u001b[33mDEPRECATION: devscripts 2.22.1ubuntu1 has a non-standard version number. pip 24.1 will enforce this behaviour change. A possible replacement is to upgrade to a newer version of devscripts or contact the author to suggest that they release a version with a conforming version number. Discussion can be found at https://github.com/pypa/pip/issues/12063\u001b[0m\u001b[33m\n",
      "\u001b[0m\u001b[31mERROR: pip's dependency resolver does not currently take into account all the packages that are installed. This behaviour is the source of the following dependency conflicts.\n",
      "torchtext 0.17.0a0 requires torch==2.3.0a0+40ec155e58, but you have torch 2.3.0a0+40ec155e58.nv24.3 which is incompatible.\u001b[0m\u001b[31m\n",
      "\u001b[0m"
     ]
    }
   ],
   "source": [
    "!pip install -q /pfss/mlde/workspaces/mlde_wsp_MorphPiece/git/MorphPiece transformers datasets"
   ]
  },
  {
   "cell_type": "code",
   "execution_count": 2,
   "id": "9e1f960e-c930-49db-8907-9fe01358469f",
   "metadata": {
    "tags": []
   },
   "outputs": [],
   "source": [
    "from datasets import load_dataset, DatasetDict\n",
    "from morphpiece import MorphPiece\n",
    "from transformers import AutoTokenizer"
   ]
  },
  {
   "cell_type": "code",
   "execution_count": 3,
   "id": "01525350-b083-43c7-adf1-53551f2c9a70",
   "metadata": {
    "tags": []
   },
   "outputs": [
    {
     "data": {
      "application/vnd.jupyter.widget-view+json": {
       "model_id": "5c45ba0e70444a3faa5c5fd8c068a205",
       "version_major": 2,
       "version_minor": 0
      },
      "text/plain": [
       "Loading dataset shards:   0%|          | 0/98 [00:00<?, ?it/s]"
      ]
     },
     "metadata": {},
     "output_type": "display_data"
    }
   ],
   "source": [
    "# raw_datasets = load_dataset('wikitext','wikitext-2-raw-v1')\n",
    "raw_datasets = load_dataset('parquet',data_dir=\"/pfss/mlde/workspaces/mlde_wsp_MorphPiece/data/fineweb-edu/sample/10BT\",split='train').select_columns(['id','text'])"
   ]
  },
  {
   "cell_type": "code",
   "execution_count": 4,
   "id": "a180191c-eacb-432f-9eeb-dc0e39667721",
   "metadata": {
    "tags": []
   },
   "outputs": [],
   "source": [
    "raw_datasets = DatasetDict(raw_datasets.train_test_split(test_size=0.001))"
   ]
  },
  {
   "cell_type": "code",
   "execution_count": 5,
   "id": "b2ec01d5-c0e3-4923-ae28-f5e7fa65c1d9",
   "metadata": {
    "tags": []
   },
   "outputs": [
    {
     "data": {
      "text/plain": [
       "DatasetDict({\n",
       "    train: Dataset({\n",
       "        features: ['id', 'text'],\n",
       "        num_rows: 9662428\n",
       "    })\n",
       "    test: Dataset({\n",
       "        features: ['id', 'text'],\n",
       "        num_rows: 9673\n",
       "    })\n",
       "})"
      ]
     },
     "execution_count": 5,
     "metadata": {},
     "output_type": "execute_result"
    }
   ],
   "source": [
    "raw_datasets"
   ]
  },
  {
   "cell_type": "code",
   "execution_count": 6,
   "id": "b1a72d1e-3324-4888-b6a3-eb2679d29a09",
   "metadata": {
    "tags": []
   },
   "outputs": [
    {
     "data": {
      "text/plain": [
       "{'id': '<urn:uuid:2465584b-9763-4d17-8dc1-49dce228e762>',\n",
       " 'text': 'Mt Kelimutu National Park is the smallest among six national parks in the stretch between the Nusa Tenggara islands. Its size obviously does not matter much when it offers one of the most spectacular wonders that nature has to offer. There are three lakes on the mountain sharing the same name, Kelimutu, meaning ‘the boiling lake’. Each has its own colors and a local name. But all are believed to be the resting place of departed souls.\\nKelimutu lakes are unpredictable as to when and what color they will change into. Sometimes, the colors are blue, green, and black, and some other times they turn to white, red, and blue. The last time a traveler saw them, one was dark brown, just like a pond of chocolate. Previously, the east lake was red and the middle lake was blue.\\nLake Kelimutu is part of the Kelimutu National Park, presenting a highly aesthetic value and surreal experience. The national park’s highest point is 5,679 feet at Mt Kelibara (1,731 meters), and 5,544 feet high (1,690 meters) at Mt Kelimutu. It is a national park that protects 19 endemic and endangered animals, among which, the Floresian punai (Treron floris), Wallacea owl (Otus silvicola), Floresian kancilan (Pachycephala nudigula), Floresian eagle (Spizeatus floris), and Timorese tesia (Tesia everetti).\\nKelimutu National Park\\nLocation: Flores, East Nusa Tenggara, Indonesia'}"
      ]
     },
     "execution_count": 6,
     "metadata": {},
     "output_type": "execute_result"
    }
   ],
   "source": [
    "raw_datasets['train'][10]"
   ]
  },
  {
   "cell_type": "code",
   "execution_count": 7,
   "id": "a47c773b-6090-4eca-8438-cea06938690c",
   "metadata": {
    "tags": []
   },
   "outputs": [],
   "source": [
    "m = MorphPiece(data_dir='/pfss/mlde/workspaces/mlde_wsp_MorphPiece/data/tokenizers_50k/gpt2-owt-morph15k')"
   ]
  },
  {
   "cell_type": "code",
   "execution_count": 8,
   "id": "1089956f-5a4d-48a2-8f00-e9889b89f82d",
   "metadata": {
    "tags": []
   },
   "outputs": [],
   "source": [
    "b = AutoTokenizer.from_pretrained(\"gpt2\")"
   ]
  },
  {
   "cell_type": "code",
   "execution_count": 9,
   "id": "8fc6a53e-973a-46de-beea-7cef966035b3",
   "metadata": {
    "tags": []
   },
   "outputs": [],
   "source": [
    "text_column_name='text'\n",
    "def tokenize_function(examples,tokenizer):\n",
    "    return tokenizer(examples[text_column_name],return_attention_mask=False)"
   ]
  },
  {
   "cell_type": "code",
   "execution_count": 10,
   "id": "31ad927f-169b-43b6-a080-e6fa2b274e3b",
   "metadata": {
    "tags": []
   },
   "outputs": [],
   "source": [
    "tokenizer = m"
   ]
  },
  {
   "cell_type": "code",
   "execution_count": 12,
   "id": "c1e6700c-c80c-4a6e-aade-fd766ad67ad2",
   "metadata": {
    "tags": []
   },
   "outputs": [
    {
     "data": {
      "application/vnd.jupyter.widget-view+json": {
       "model_id": "acf06ab978234570992e07cf192c1993",
       "version_major": 2,
       "version_minor": 0
      },
      "text/plain": [
       "Map:   0%|          | 0/10000 [00:00<?, ? examples/s]"
      ]
     },
     "metadata": {},
     "output_type": "display_data"
    }
   ],
   "source": [
    "tokenized_datasets = raw_datasets['train'].select(range(10000)).map(\n",
    "            tokenize_function, \n",
    "            fn_kwargs={'tokenizer':tokenizer},\n",
    "            batched=True,\n",
    "            num_proc=1,\n",
    "            remove_columns=raw_datasets['train'].column_names,\n",
    "        )"
   ]
  },
  {
   "cell_type": "code",
   "execution_count": 13,
   "id": "c0e678d9",
   "metadata": {},
   "outputs": [
    {
     "data": {
      "text/plain": [
       "Dataset({\n",
       "    features: ['input_ids'],\n",
       "    num_rows: 10000\n",
       "})"
      ]
     },
     "execution_count": 13,
     "metadata": {},
     "output_type": "execute_result"
    }
   ],
   "source": [
    "tokenized_datasets"
   ]
  },
  {
   "cell_type": "code",
   "execution_count": null,
   "id": "7546558c-8ad1-4200-addd-235db5d0d038",
   "metadata": {
    "tags": []
   },
   "outputs": [],
   "source": [
    "block_size=2048"
   ]
  },
  {
   "cell_type": "code",
   "execution_count": null,
   "id": "aa61709b-ebc7-4eab-8510-5a138135a8ef",
   "metadata": {
    "tags": []
   },
   "outputs": [],
   "source": [
    "def group_texts(examples):\n",
    "    # Concatenate all texts.\n",
    "    concatenated_examples = {k: sum(examples[k], []) for k in examples.keys()}\n",
    "    total_length = len(concatenated_examples[list(examples.keys())[0]])\n",
    "    # We drop the small remainder, we could add padding if the model supported it instead of this drop, you can\n",
    "    # customize this part to your needs.\n",
    "    if total_length >= block_size:\n",
    "        total_length = (total_length // block_size) * block_size\n",
    "    # Split by chunks of block_size.\n",
    "    result = {\n",
    "        k: [t[i : i + block_size] for i in range(0, total_length, block_size)]\n",
    "        for k, t in concatenated_examples.items()\n",
    "    }\n",
    "    return result"
   ]
  },
  {
   "cell_type": "code",
   "execution_count": 15,
   "id": "dac839ea-bcc1-44e5-b2f9-697841fca305",
   "metadata": {
    "tags": []
   },
   "outputs": [
    {
     "data": {
      "text/plain": [
       "Dataset({\n",
       "    features: ['input_ids'],\n",
       "    num_rows: 10000\n",
       "})"
      ]
     },
     "execution_count": 15,
     "metadata": {},
     "output_type": "execute_result"
    }
   ],
   "source": [
    "# tokenized_datasets = tokenized_datasets.remove_columns('attention_mask')\n",
    "tokenized_datasets"
   ]
  },
  {
   "cell_type": "code",
   "execution_count": null,
   "id": "bffe71e1-141c-461c-bc54-0e62c8735a36",
   "metadata": {
    "tags": []
   },
   "outputs": [
    {
     "data": {
      "application/vnd.jupyter.widget-view+json": {
       "model_id": "030034749f7c4d6db4c88c9d9c7003de",
       "version_major": 2,
       "version_minor": 0
      },
      "text/plain": [
       "Map (num_proc=16):   0%|          | 0/100000 [00:00<?, ? examples/s]"
      ]
     },
     "metadata": {},
     "output_type": "display_data"
    }
   ],
   "source": [
    "lm_datasets = tokenized_datasets.map(\n",
    "            group_texts,\n",
    "            batched=True,\n",
    "            num_proc=16,\n",
    "        )"
   ]
  },
  {
   "cell_type": "code",
   "execution_count": null,
   "id": "f52fa62c-0187-4133-82e0-0fa5eb20a3ff",
   "metadata": {},
   "outputs": [
    {
     "ename": "NameError",
     "evalue": "name 'lm_datasets' is not defined",
     "output_type": "error",
     "traceback": [
      "\u001b[0;31m---------------------------------------------------------------------------\u001b[0m",
      "\u001b[0;31mNameError\u001b[0m                                 Traceback (most recent call last)",
      "Cell \u001b[0;32mIn[1], line 1\u001b[0m\n\u001b[0;32m----> 1\u001b[0m \u001b[43mlm_datasets\u001b[49m\n",
      "\u001b[0;31mNameError\u001b[0m: name 'lm_datasets' is not defined"
     ]
    }
   ],
   "source": [
    "lm_datasets"
   ]
  },
  {
   "cell_type": "code",
   "execution_count": null,
   "id": "854755a0-d5ac-4f58-ada7-d51994ffda3f",
   "metadata": {
    "tags": []
   },
   "outputs": [
    {
     "data": {
      "application/vnd.jupyter.widget-view+json": {
       "model_id": "900ccab8f1cf4d31bb46cc1240263223",
       "version_major": 2,
       "version_minor": 0
      },
      "text/plain": [
       "Saving the dataset (0/1 shards):   0%|          | 0/57015 [00:00<?, ? examples/s]"
      ]
     },
     "metadata": {},
     "output_type": "display_data"
    }
   ],
   "source": [
    "lm_datasets.save_to_disk('/pfss/mlde/workspaces/mlde_wsp_MorphPiece/data/fineweb-edu/grouped_owt_morph15k_50k_2048')"
   ]
  },
  {
   "cell_type": "code",
   "execution_count": 30,
   "id": "41145750-51c4-4d31-841a-303718488ff5",
   "metadata": {},
   "outputs": [
    {
     "data": {
      "text/plain": [
       "1.1432266602502406"
      ]
     },
     "execution_count": 30,
     "metadata": {},
     "output_type": "execute_result"
    }
   ],
   "source": [
    "lm_datasets.num_rows/lm_datasets_b.num_rows"
   ]
  },
  {
   "cell_type": "code",
   "execution_count": null,
   "id": "d0e5233f-b516-440b-bac0-b25114876e77",
   "metadata": {},
   "outputs": [],
   "source": []
  }
 ],
 "metadata": {
  "kernelspec": {
   "display_name": "Python 3 (ipykernel)",
   "language": "python",
   "name": "python3"
  },
  "language_info": {
   "codemirror_mode": {
    "name": "ipython",
    "version": 3
   },
   "file_extension": ".py",
   "mimetype": "text/x-python",
   "name": "python",
   "nbconvert_exporter": "python",
   "pygments_lexer": "ipython3",
   "version": "3.11.9"
  }
 },
 "nbformat": 4,
 "nbformat_minor": 5
}
